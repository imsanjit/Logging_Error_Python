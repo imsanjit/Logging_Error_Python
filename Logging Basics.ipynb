{
 "cells": [
  {
   "cell_type": "code",
   "execution_count": 3,
   "metadata": {},
   "outputs": [],
   "source": [
    "import logging"
   ]
  },
  {
   "cell_type": "code",
   "execution_count": 7,
   "metadata": {},
   "outputs": [],
   "source": [
    "# Default level is warning.\n",
    "\n",
    "logging.basicConfig()\n",
    "\n",
    "logging.debug('This is a debug message')\n",
    "logging.info('This is a info message')\n",
    "logging.warning('This is a warning message')\n",
    "logging.error('This is a error message')\n",
    "logging.critical('This is a critical message')"
   ]
  },
  {
   "cell_type": "markdown",
   "metadata": {},
   "source": [
    "Level - Numeric Value\n",
    "\n",
    "1. Critical - 50\n",
    "2. Error -    40\n",
    "3. Warning -  30\n",
    "4. Info -     20\n",
    "5. Debug -    10\n",
    "6. Notset -    0"
   ]
  },
  {
   "cell_type": "code",
   "execution_count": 8,
   "metadata": {},
   "outputs": [],
   "source": [
    "#change logging level\n",
    "\n",
    "logging.basicConfig(level = logging.DEBUG)\n",
    "\n",
    "logging.debug('This is a debug message')\n",
    "logging.info('This is a info message')\n",
    "logging.warning('This is a warning message')\n",
    "logging.error('This is a error message')\n",
    "logging.critical('This is a critical message')"
   ]
  },
  {
   "cell_type": "code",
   "execution_count": null,
   "metadata": {},
   "outputs": [],
   "source": []
  }
 ],
 "metadata": {
  "kernelspec": {
   "display_name": "Python 3",
   "language": "python",
   "name": "python3"
  },
  "language_info": {
   "codemirror_mode": {
    "name": "ipython",
    "version": 3
   },
   "file_extension": ".py",
   "mimetype": "text/x-python",
   "name": "python",
   "nbconvert_exporter": "python",
   "pygments_lexer": "ipython3",
   "version": "3.7.4"
  }
 },
 "nbformat": 4,
 "nbformat_minor": 2
}
